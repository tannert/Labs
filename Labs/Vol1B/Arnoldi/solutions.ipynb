{
 "metadata": {
  "name": ""
 },
 "nbformat": 3,
 "nbformat_minor": 0,
 "worksheets": [
  {
   "cells": [
    {
     "cell_type": "code",
     "collapsed": false,
     "input": [
      "import numpy as np\n",
      "from numpy.random import rand\n",
      "from scipy.linalg import eig\n",
      "from cmath import sqrt\n",
      "from pyfftw.interfaces.scipy_fftpack import fft\n",
      "from scipy import sparse as ss\n",
      "from scipy.sparse.linalg import eigsh"
     ],
     "language": "python",
     "metadata": {},
     "outputs": [],
     "prompt_number": 1
    },
    {
     "cell_type": "code",
     "collapsed": false,
     "input": [
      "# Arnoldi Iteration\n",
      "def arnoldi(b, Amul, k, tol=1E-8):\n",
      "    \"\"\"Perform 'k' steps of the Arnoldi Iteration for\n",
      "    sparse array 'A' and starting point 'b'with multiplicaiton\n",
      "    function 'Amul'. Stop if the projection of a vector\n",
      "    orthogonal to the current subspace has norm less than 'tol'.\"\"\"\n",
      "    # Some initialization steps.\n",
      "    # Initialize to complex arrays to avoid some errors.\n",
      "    Q = np.empty((b.size, k+1), order='F', dtype=np.complex128)\n",
      "    H = np.zeros((k+1, k), order='F', dtype=np.complex128)\n",
      "    ritz_vals = []\n",
      "    # Set q_0 equal to b.\n",
      "    Q[:,0] = b\n",
      "    # Normalize q_0.\n",
      "    Q[:,0] /= sqrt(np.inner(b.conjugate(), b))\n",
      "    # Perform actual iteration.\n",
      "    for j in xrange(k):\n",
      "        # Compute A.dot(q_j).\n",
      "        Q[:,j+1] = Amul(Q[:,j])\n",
      "        # Modified Graham Schmidt\n",
      "        for i in xrange(j+1):\n",
      "            # Set values of $H$\n",
      "            H[i,j] = np.inner(Q[:,i].conjugate(), Q[:,j+1])\n",
      "            Q[:,j+1] -= H[i,j] * Q[:,i]\n",
      "        # Set subdiagonel element of H.\n",
      "        H[j+1,j] = sqrt(np.inner(Q[:,j+1].conjugate(), Q[:,j+1]))\n",
      "        # Stop if ||q_{j+1}|| is too small.\n",
      "        if abs(H[j+1, j]) < tol:\n",
      "            # Here I'll copy the array to avoid excess memory usage.\n",
      "            return np.array(H[:j,:j], order='F')\n",
      "        # Normalize q_{j+1}\n",
      "        Q[:,j+1] /= H[j+1, j]\n",
      "    return H[:-1]"
     ],
     "language": "python",
     "metadata": {},
     "outputs": [],
     "prompt_number": 2
    },
    {
     "cell_type": "code",
     "collapsed": false,
     "input": [
      "# Ritz Convergence Problem\n",
      "\n",
      "# A simple exampe of the convergence of the Ritz values\n",
      "# to the eigenvalues of the original matrix.\n",
      "m = 100\n",
      "A = rand(m, m)\n",
      "b = rand(m)\n",
      "# number of iterations\n",
      "k = 40\n",
      "# number of eigvals to print\n",
      "view_vals = 10\n",
      "# run iteration\n",
      "H = arnoldi(b, A.dot, k)\n",
      "# compute actual eigenvalues\n",
      "A_eigs = eig(A, right=False)\n",
      "# sort by magnitude\n",
      "A_eigs = A_eigs[np.absolute(A_eigs).argsort()[::-1]]\n",
      "# print eigvals with largest magnitude\n",
      "print A_eigs[:view_vals]\n",
      "# compute Ritz Values\n",
      "H_eigs = eig(H, right=False)\n",
      "# sort by magnitude\n",
      "H_eigs = H_eigs[np.absolute(H_eigs).argsort()[::-1]]\n",
      "# print eigvals with largest magnitude\n",
      "print H_eigs[:view_vals]"
     ],
     "language": "python",
     "metadata": {},
     "outputs": [
      {
       "output_type": "stream",
       "stream": "stdout",
       "text": [
        "[ 50.33618459+0.j          -3.09581376+0.j          -0.46723898+2.95230908j\n",
        "  -0.46723898-2.95230908j   2.92285527+0.j          -1.74583201+2.24047581j\n",
        "  -1.74583201-2.24047581j   1.93149345-1.96137787j   1.93149345+1.96137787j\n",
        "  -2.54870682-0.94125628j]\n",
        "[ 50.33618459 +1.11022302e-15j  -3.09571832 -6.66133815e-16j\n",
        "  -0.46733277 +2.95206166e+00j  -0.46733277 -2.95206166e+00j\n",
        "   2.92312696 +9.99597488e-18j  -1.74682100 +2.23956958e+00j\n",
        "  -1.74682100 -2.23956958e+00j   1.93549116 +1.95918115e+00j\n",
        "   1.93549116 -1.95918115e+00j  -2.54858314 -9.58442624e-01j]\n"
       ]
      }
     ],
     "prompt_number": 3
    },
    {
     "cell_type": "code",
     "collapsed": false,
     "input": [
      "# Fourier Eigenvalue Problem\n",
      "\n",
      "# Returns an estimate for the eigenvalues of the\n",
      "# Discrete Fourier Transform.\n",
      "m = 2**20\n",
      "b = rand(m)\n",
      "k = 10\n",
      "H = arnoldi(b, fft, k)\n",
      "H_eigs = eig(H, right=False)\n",
      "H_eigs /= sqrt(m)\n",
      "H_eigs = H_eigs[np.absolute(H_eigs).argsort()][::-1]\n",
      "H_eigs[:10]"
     ],
     "language": "python",
     "metadata": {},
     "outputs": [
      {
       "metadata": {},
       "output_type": "pyout",
       "prompt_number": 4,
       "text": [
        "array([  8.66616759e-01+0.000511j  ,  -8.66097717e-01+0.00051351j,\n",
        "        -2.96492423e-04-0.00410748j])"
       ]
      }
     ],
     "prompt_number": 4
    },
    {
     "cell_type": "code",
     "collapsed": false,
     "input": [
      "# Polynomial Root Finding Problem\n",
      "\n",
      "def companion_multiply(c, u):\n",
      "    v = np.empty_like(u)\n",
      "    v[0] = - c[0] * u[-1]\n",
      "    v[1:] = u[:-1] - c[1:] * u[-1]\n",
      "    return v\n",
      "\n",
      "m = 1000\n",
      "k = 50\n",
      "disp = 5\n",
      "c = rand(m)\n",
      "p = np.poly1d([1] + list(c[::-1]))\n",
      "Cmul = lambda u: companion_multiply(c, u)\n",
      "b = rand(m)\n",
      "H = arnoldi(b, Cmul, k)\n",
      "H_eigs = eig(H, right=False)\n",
      "H_eigs = H_eigs[np.absolute(H_eigs).argsort()][::-1]\n",
      "print H_eigs[:disp]\n",
      "roots = p.roots\n",
      "roots = roots[np.absolute(roots).argsort()][::-1]\n",
      "print roots[:disp]"
     ],
     "language": "python",
     "metadata": {},
     "outputs": [
      {
       "output_type": "stream",
       "stream": "stdout",
       "text": [
        "[ 0.29402276+1.04329424j  0.29402276-1.04329424j -0.80351767-0.70185201j\n",
        " -0.80351767+0.70185201j -0.03675525+1.0620474j ]\n",
        "[ 0.29471409+1.04667231j  0.29471409-1.04667231j -0.04187144-1.0701767j\n",
        " -0.04187144+1.0701767j  -0.80039762+0.70794421j]"
       ]
      },
      {
       "output_type": "stream",
       "stream": "stdout",
       "text": [
        "\n"
       ]
      }
     ],
     "prompt_number": 5
    },
    {
     "cell_type": "code",
     "collapsed": false,
     "input": [
      "# Lanczos Iteration\n",
      "def lanczos(b, Amul, k, tol=1E-8):\n",
      "    \"\"\"Perform basic Lanczos Iteration given a starting vector 'b',\n",
      "    a function 'Amul' representing multiplication by some matrix A,\n",
      "    a number 'k' of iterations to perform, and a tolerance 'tol' to\n",
      "    determine if the algorithm should stop early.\"\"\"\n",
      "    # Some Initialization\n",
      "    # We will use $q_0$ and $q_1$ to store the needed $q_i$\n",
      "    q0 = 0\n",
      "    q1 = b / sqrt(np.inner(b.conjugate(), b))\n",
      "    alpha = np.empty(k)\n",
      "    beta = np.empty(k)\n",
      "    beta[-1] = 0.\n",
      "    # Perform the iteration.\n",
      "    for i in xrange(k):\n",
      "        # z is a temporary vector to store q_{i+1}\n",
      "        z = Amul(q1)\n",
      "        alpha[i] = np.inner(q1.conjugate(), z)\n",
      "        z -= alpha[i] * q1\n",
      "        z -= beta[i-1] * q0\n",
      "        beta[i] = sqrt(np.inner(z.conjugate(), z)).real\n",
      "        # Stop if ||q_{j+1}|| is too small.\n",
      "        if beta[i] < tol:\n",
      "            return alpha[:i+1].copy(), beta[:i].copy()\n",
      "        z /= beta[i]\n",
      "        # Store new q_{i+1} and q_i on top of q0 and q1\n",
      "        q0, q1 = q1, z\n",
      "    return alpha, beta[:-1]"
     ],
     "language": "python",
     "metadata": {},
     "outputs": [],
     "prompt_number": 6
    },
    {
     "cell_type": "code",
     "collapsed": false,
     "input": [
      "# Tridiagonal Eigenvalue Problem\n",
      "# Shows existence of Ghost Eigenvalues\n",
      "\n",
      "def tri_mul(alpha, beta, u):\n",
      "    v = alpha * u\n",
      "    v[:-1] += beta * u[1:]\n",
      "    v[1:] += beta * u[:-1]\n",
      "    return v\n",
      "\n",
      "# Most of this code is just constructing\n",
      "# tridiagonal matrices and calling functions\n",
      "# they have already written.\n",
      "m = 1000\n",
      "k = 100\n",
      "A = np.zeros((m, m))\n",
      "a = rand(m)\n",
      "b = rand(m-1)\n",
      "np.fill_diagonal(A, a)\n",
      "np.fill_diagonal(A[1:], b)\n",
      "np.fill_diagonal(A[:,1:], b)\n",
      "Amul = lambda u: tri_mul(a, b, u)\n",
      "alpha, beta = lanczos(rand(m), Amul, k)\n",
      "H = np.zeros((alpha.size, alpha.size))\n",
      "np.fill_diagonal(H, alpha)\n",
      "np.fill_diagonal(H[1:], beta)\n",
      "np.fill_diagonal(H[:,1:], beta)\n",
      "H_eigs = eig(H, right=False)\n",
      "H_eigs.sort()\n",
      "H_eigs = H_eigs[::-1]\n",
      "print H_eigs[:10]\n",
      "A = np.zeros((m, m))\n",
      "np.fill_diagonal(A, a)\n",
      "np.fill_diagonal(A[1:], b)\n",
      "np.fill_diagonal(A[:,1:], b)\n",
      "A_eigs = eig(A, right=False)\n",
      "A_eigs.sort()\n",
      "A_eigs = A_eigs[::-1]\n",
      "print A_eigs[:10]\n",
      "# Repeat a few times to notice a ghost eigenvalue."
     ],
     "language": "python",
     "metadata": {},
     "outputs": [
      {
       "output_type": "stream",
       "stream": "stdout",
       "text": [
        "[ 2.34691997+0.j  2.32030221+0.j  2.29888440+0.j  2.26066098+0.j\n",
        "  2.24224358+0.j  2.20876620+0.j  2.18050872+0.j  2.13175139+0.j\n",
        "  2.11963731+0.j  2.11130420+0.j]\n",
        "[ 2.34691997+0.j  2.29888440+0.j  2.26066098+0.j  2.24224358+0.j\n",
        "  2.20876620+0.j  2.18050872+0.j  2.13175156+0.j  2.11971098+0.j\n",
        "  2.11212331+0.j  2.10952430+0.j]"
       ]
      },
      {
       "output_type": "stream",
       "stream": "stdout",
       "text": [
        "\n"
       ]
      },
      {
       "output_type": "stream",
       "stream": "stderr",
       "text": [
        "-c:18: ComplexWarning: Casting complex values to real discards the imaginary part\n"
       ]
      }
     ],
     "prompt_number": 7
    },
    {
     "cell_type": "code",
     "collapsed": false,
     "input": [
      "# Algebraic Connectivity Problem (first part)\n",
      "\n",
      "# The idea here is to notice that only\n",
      "# one eigenvalue is nearly equal to 0.\n",
      "m = 1000\n",
      "d = np.ones(m)\n",
      "d[1:-1] += np.ones(m-2)\n",
      "l = ss.diags([-np.ones(m-1), d, -np.ones(m-1)], [-1, 0, 1])\n",
      "eigsh(l, which='SM', return_eigenvectors=False)"
     ],
     "language": "python",
     "metadata": {},
     "outputs": [
      {
       "metadata": {},
       "output_type": "pyout",
       "prompt_number": 8,
       "text": [
        "array([  2.46735037e-04,   1.57911592e-04,   8.88257821e-05,\n",
        "         3.94782877e-05,   9.86959628e-06,  -8.80209646e-18])"
       ]
      }
     ],
     "prompt_number": 8
    },
    {
     "cell_type": "code",
     "collapsed": false,
     "input": [
      "# Algebraic Connectivity Problem (second part)\n",
      "\n",
      "# The idea here is to notice that two of\n",
      "# the eigenvalues are nearly equal to 0.\n",
      "m = 1000\n",
      "cut = 500\n",
      "d = np.ones(m)\n",
      "d[1:-1] += np.ones(m-2)\n",
      "d1 = -np.ones(m-1)\n",
      "d1[cut] = 0\n",
      "d[[cut, cut+1]] =1\n",
      "l = ss.diags([d1, d, d1], [-1, 0, 1])\n",
      "eigsh(l, which='SM', return_eigenvectors=False)"
     ],
     "language": "python",
     "metadata": {},
     "outputs": [
      {
       "metadata": {},
       "output_type": "pyout",
       "prompt_number": 9,
       "text": [
        "array([  1.58545130e-04,   1.57281844e-04,   3.96366754e-05,\n",
        "         3.93208476e-05,  -2.46210218e-17,   4.88926301e-18])"
       ]
      }
     ],
     "prompt_number": 9
    },
    {
     "cell_type": "code",
     "collapsed": false,
     "input": [],
     "language": "python",
     "metadata": {},
     "outputs": []
    }
   ],
   "metadata": {}
  }
 ]
}